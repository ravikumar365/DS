{
 "cells": [
  {
   "cell_type": "markdown",
   "metadata": {},
   "source": [
    "#### Create the below pattern using nested for loop in Python.\n",
    "\n",
    "     *\n",
    "     * *\n",
    "     * * *\n",
    "     * * * *\n",
    "     * * * * *\n",
    "     * * * *\n",
    "     * * *\n",
    "     * *\n",
    "     *\n"
   ]
  },
  {
   "cell_type": "code",
   "execution_count": 9,
   "metadata": {},
   "outputs": [
    {
     "name": "stdout",
     "output_type": "stream",
     "text": [
      "*\r\n",
      "**\r\n",
      "***\r\n",
      "****\r\n",
      "*****\r\n",
      "****\r\n",
      "***\r\n",
      "**\r\n",
      "*\r\n",
      "\r\n"
     ]
    }
   ],
   "source": [
    "rows = 5\n",
    "for i in range(0, rows):\n",
    "    for j in range(0, i+1):\n",
    "        print('*', end='')\n",
    "    print('\\r')\n",
    "\n",
    "for i in range(rows, 0, -1):\n",
    "    for j in range(0, i-1):\n",
    "        print('*', end='')\n",
    "    print('\\r')"
   ]
  },
  {
   "cell_type": "markdown",
   "metadata": {},
   "source": [
    "#### Write a Python program to reverse a word after accepting the input from the user."
   ]
  },
  {
   "cell_type": "code",
   "execution_count": 10,
   "metadata": {},
   "outputs": [
    {
     "name": "stdout",
     "output_type": "stream",
     "text": [
      "Enter any word:ravi\n",
      "ivar\n"
     ]
    }
   ],
   "source": [
    "string= input('Enter any word:')\n",
    "reverse_string= string[::-1]\n",
    "print(reverse_string)"
   ]
  },
  {
   "cell_type": "code",
   "execution_count": null,
   "metadata": {},
   "outputs": [],
   "source": []
  }
 ],
 "metadata": {
  "kernelspec": {
   "display_name": "Python 3",
   "language": "python",
   "name": "python3"
  },
  "language_info": {
   "codemirror_mode": {
    "name": "ipython",
    "version": 3
   },
   "file_extension": ".py",
   "mimetype": "text/x-python",
   "name": "python",
   "nbconvert_exporter": "python",
   "pygments_lexer": "ipython3",
   "version": "3.7.3"
  }
 },
 "nbformat": 4,
 "nbformat_minor": 2
}
