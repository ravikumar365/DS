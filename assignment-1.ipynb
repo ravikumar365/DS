{
 "cells": [
  {
   "cell_type": "markdown",
   "metadata": {},
   "source": [
    "#### Write a program which will find all such numbers which are divisible by 7 but are not a multiple of 5, between 2000 and 3200 (both included). The numbers obtained should be printed multiple of 5, in a comma-separated sequence on a single line."
   ]
  },
  {
   "cell_type": "code",
   "execution_count": 27,
   "metadata": {},
   "outputs": [
    {
     "name": "stdout",
     "output_type": "stream",
     "text": [
      "[10010, 10045, 10080, 10115, 10185, 10220, 10255, 10290, 10360, 10395, 10430, 10465, 10535, 10570, 10605, 10640, 10710, 10745, 10780, 10815, 10885, 10920, 10955, 10990, 11060, 11095, 11130, 11165, 11235, 11270, 11305, 11340, 11410, 11445, 11480, 11515, 11585, 11620, 11655, 11690, 11760, 11795, 11830, 11865, 11935, 11970, 12005, 12040, 12110, 12145, 12180, 12215, 12285, 12320, 12355, 12390, 12460, 12495, 12530, 12565, 12635, 12670, 12705, 12740, 12810, 12845, 12880, 12915, 12985, 13020, 13055, 13090, 13160, 13195, 13230, 13265, 13335, 13370, 13405, 13440, 13510, 13545, 13580, 13615, 13685, 13720, 13755, 13790, 13860, 13895, 13930, 13965, 14035, 14070, 14105, 14140, 14210, 14245, 14280, 14315, 14385, 14420, 14455, 14490, 14560, 14595, 14630, 14665, 14735, 14770, 14805, 14840, 14910, 14945, 14980, 15015, 15085, 15120, 15155, 15190, 15260, 15295, 15330, 15365, 15435, 15470, 15505, 15540, 15610, 15645, 15680, 15715, 15785, 15820, 15855, 15890, 15960, 15995]\n"
     ]
    }
   ],
   "source": [
    "numbers = []\n",
    "for i in range(2000, 3201):\n",
    "    if (i%7==0) and (i%5!=0):\n",
    "        s=i*5\n",
    "        numbers.append(s)\n",
    "print(numbers)\n",
    "        \n"
   ]
  },
  {
   "cell_type": "markdown",
   "metadata": {},
   "source": [
    "#### Write a Python program to accept the user's first and last name and then getting them printed in the the reverse order with a space between first name and last name."
   ]
  },
  {
   "cell_type": "code",
   "execution_count": 29,
   "metadata": {},
   "outputs": [
    {
     "name": "stdout",
     "output_type": "stream",
     "text": [
      "Input your First Name : Ravi\n",
      "Input your Last Name : Karumuri\n",
      "Karumuri Ravi\n"
     ]
    }
   ],
   "source": [
    "fname = input(\"Input your First Name : \")\n",
    "lname = input(\"Input your Last Name : \")\n",
    "print (lname + \" \" + fname)"
   ]
  },
  {
   "cell_type": "markdown",
   "metadata": {},
   "source": [
    "#### Write a Python program to find the volume of a sphere with diameter 12 cm."
   ]
  },
  {
   "cell_type": "code",
   "execution_count": 33,
   "metadata": {},
   "outputs": [
    {
     "name": "stdout",
     "output_type": "stream",
     "text": [
      "Enter the Diameter of a sphere: 12\n",
      "Volume of the Sphere:  904.7786842338603\n"
     ]
    }
   ],
   "source": [
    "#Formula: V=4/3 * π * r 3\n",
    "\n",
    "from math import pi\n",
    "d = int(input('Enter the Diameter of a sphere: '))\n",
    "r= d/2\n",
    "v=4/3*pi*r**3\n",
    "print('Volume of the Sphere: ', v)"
   ]
  },
  {
   "cell_type": "code",
   "execution_count": null,
   "metadata": {},
   "outputs": [],
   "source": []
  }
 ],
 "metadata": {
  "kernelspec": {
   "display_name": "Python 3",
   "language": "python",
   "name": "python3"
  },
  "language_info": {
   "codemirror_mode": {
    "name": "ipython",
    "version": 3
   },
   "file_extension": ".py",
   "mimetype": "text/x-python",
   "name": "python",
   "nbconvert_exporter": "python",
   "pygments_lexer": "ipython3",
   "version": "3.7.3"
  }
 },
 "nbformat": 4,
 "nbformat_minor": 2
}
